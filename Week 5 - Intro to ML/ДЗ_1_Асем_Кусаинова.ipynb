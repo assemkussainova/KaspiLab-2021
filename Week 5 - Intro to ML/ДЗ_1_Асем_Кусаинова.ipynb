{
  "nbformat": 4,
  "nbformat_minor": 0,
  "metadata": {
    "kernelspec": {
      "display_name": "Python 3",
      "language": "python",
      "name": "python3"
    },
    "language_info": {
      "codemirror_mode": {
        "name": "ipython",
        "version": 3
      },
      "file_extension": ".py",
      "mimetype": "text/x-python",
      "name": "python",
      "nbconvert_exporter": "python",
      "pygments_lexer": "ipython3",
      "version": "3.6.5"
    },
    "colab": {
      "name": "ДЗ 1  Асем Кусаинова.ipynb",
      "provenance": [],
      "collapsed_sections": []
    }
  },
  "cells": [
    {
      "cell_type": "code",
      "metadata": {
        "id": "mOzXSXqjc0qQ"
      },
      "source": [
        "from sklearn.datasets import make_regression\n",
        "\n",
        "X, y = make_regression(n_samples=500, n_features=5, noise=0.75)"
      ],
      "execution_count": 1,
      "outputs": []
    },
    {
      "cell_type": "code",
      "metadata": {
        "colab": {
          "base_uri": "https://localhost:8080/"
        },
        "id": "m_A12rWOc0qi",
        "outputId": "b7d9b46a-a3ae-4892-9311-7268227b16de"
      },
      "source": [
        "X"
      ],
      "execution_count": 2,
      "outputs": [
        {
          "output_type": "execute_result",
          "data": {
            "text/plain": [
              "array([[ 0.97180413, -0.42345362,  1.06648694,  0.84401629, -1.15823184],\n",
              "       [-0.22100747,  0.49507327,  2.2477251 , -0.68213716, -1.75103277],\n",
              "       [ 1.06121942, -1.44848941, -1.50924194, -1.40265816, -0.36398532],\n",
              "       ...,\n",
              "       [-0.67285801, -0.11333643, -0.49222309,  0.64412177,  0.08888373],\n",
              "       [-0.77157168, -1.39479426,  0.19955314,  1.5169218 , -1.36949745],\n",
              "       [-0.94696905,  1.76286349, -0.72409763, -1.78534997,  1.67712026]])"
            ]
          },
          "metadata": {
            "tags": []
          },
          "execution_count": 2
        }
      ]
    },
    {
      "cell_type": "code",
      "metadata": {
        "colab": {
          "base_uri": "https://localhost:8080/"
        },
        "id": "0f0tK2uDc0qp",
        "outputId": "0d454ae1-43a9-4012-bb56-36744defbc0d"
      },
      "source": [
        "y"
      ],
      "execution_count": 3,
      "outputs": [
        {
          "output_type": "execute_result",
          "data": {
            "text/plain": [
              "array([ 2.12157589e+00,  4.96960103e+01, -1.88307193e+02, -2.52514753e+01,\n",
              "        3.24701995e+01,  1.57181393e+02,  1.29449078e+02,  1.87570120e+01,\n",
              "       -1.15329174e+02,  1.73577402e+02, -1.06401309e+02,  1.16785698e+02,\n",
              "       -6.65627628e+01,  2.74255005e+01, -8.12608928e+01, -2.27888621e+01,\n",
              "       -1.77170316e+02, -6.12042248e+01, -5.83079994e+01, -9.08554959e+01,\n",
              "       -1.46087587e+02, -1.71611511e+02, -1.30510019e+02,  2.19130686e+01,\n",
              "        1.29430660e+02,  1.25330613e+02,  1.19633644e+02, -4.29650278e+01,\n",
              "       -1.44944514e+01, -1.25601205e+02,  4.19749243e+01, -7.91588209e+00,\n",
              "       -1.78436234e+02,  9.68725510e+01,  3.84056606e+01, -6.63737153e+01,\n",
              "        2.62913074e+01, -2.21955758e+01,  1.50903376e+01, -7.27617829e+01,\n",
              "        1.44051790e+02,  7.10942673e+01,  1.67335888e+02, -1.12150606e+02,\n",
              "       -4.38717320e+01,  7.95786466e+01,  2.73902461e+01,  7.34414542e+01,\n",
              "        1.62725544e+02,  1.51551822e+02, -2.18751871e+02,  1.22327928e+02,\n",
              "        3.31385133e+01, -7.45874789e+01, -7.90005230e+00,  1.59215560e+00,\n",
              "       -3.70689606e+00, -7.88716792e+01, -3.70495751e+01, -3.31935758e+01,\n",
              "        9.50202239e+00, -1.27580564e+02, -7.84393376e+01, -1.55352942e+02,\n",
              "       -6.76535655e+01, -1.50082832e+02,  1.90085533e+02, -1.01124314e+02,\n",
              "       -8.94743151e+01, -1.61572896e+02,  4.51945009e+01,  4.94316905e+00,\n",
              "        1.10636201e+02, -2.28844900e+01, -2.11080744e+01, -8.64823687e+01,\n",
              "       -6.94081001e+01, -1.83334259e+02,  1.21755857e+02,  1.91736302e+02,\n",
              "        4.49607347e-01,  9.48919619e+01, -9.86417947e+01,  3.62506275e+01,\n",
              "        9.05191471e+00, -1.04091603e+02,  6.14368185e+01, -9.16330251e+01,\n",
              "       -2.09354860e+02,  5.53680265e+01, -2.31509585e+01,  1.65968787e+02,\n",
              "        4.06575490e+01, -2.25951751e+01,  6.55564685e+01,  6.16565734e+01,\n",
              "        1.57589456e+01, -1.82823287e+01, -2.01400816e+02, -1.45732086e+02,\n",
              "        4.20455290e+01,  6.61756557e+01, -3.69696162e+01, -2.52630850e-01,\n",
              "       -1.66672299e+01,  3.61373438e+01, -4.33509393e+01, -6.75235787e+01,\n",
              "        1.37041715e+02,  1.25932948e+01, -2.92419015e+01, -2.07980644e+01,\n",
              "        4.86843446e+00,  4.82276076e+01, -2.59180414e+01, -3.97597279e+01,\n",
              "        1.29293189e+02, -9.58445230e+01, -1.68514092e+01, -8.96285170e+01,\n",
              "       -2.21576083e+01, -3.87421340e+00,  1.11177137e+02, -1.86559021e+02,\n",
              "       -1.30199449e+02,  1.33682038e+01,  5.40460447e+01, -7.04421349e+01,\n",
              "        4.73427470e+00,  9.56956191e+01, -1.02092473e+02, -5.29803651e+00,\n",
              "       -1.59930264e+01,  1.80999586e+01,  1.77245536e+02,  6.96753379e+01,\n",
              "       -1.34888448e+02, -1.99298765e+01,  2.69369893e+00, -5.65871851e+01,\n",
              "       -9.17884156e+01, -1.62551049e+01, -4.33285243e+01,  3.61527121e+01,\n",
              "        1.05365268e+00,  1.48760195e+01, -1.88059592e+02, -8.38280834e+01,\n",
              "       -1.97461011e+02,  5.31809168e+01,  1.17661383e+02, -7.49829878e+01,\n",
              "       -3.55867469e+01,  6.33060905e+01, -6.17656754e+01, -7.44904410e+01,\n",
              "       -7.54198332e+00, -1.42951162e+02,  2.40658365e+01,  1.66294507e+02,\n",
              "        1.18777067e+01, -2.24921454e+02, -1.90503773e+02, -1.63777316e+02,\n",
              "        7.67420463e+01,  5.76024737e+01,  6.50708091e+01,  2.07923783e+01,\n",
              "        6.39307992e+01,  1.73651719e+02, -7.62296057e+01, -1.30889942e+02,\n",
              "        8.99604240e+01, -1.00513407e+02, -9.96683235e+01, -1.74983920e+01,\n",
              "       -5.73909055e+01, -1.19876786e+02, -7.93781903e+01,  9.08200260e-01,\n",
              "        1.28266685e+02, -1.76962465e+02, -6.89357811e+01, -1.59761894e+01,\n",
              "        2.11420661e+02, -1.55954506e+01, -6.69859660e+01,  7.35973771e+01,\n",
              "       -1.35422222e+02,  9.66803436e+01,  1.06494370e+02,  1.18560437e+02,\n",
              "       -2.33928533e+00,  1.00814780e+02,  1.94492380e+00, -1.18184584e+02,\n",
              "       -1.32604459e+02,  4.96184881e+01, -2.04237798e+02,  6.90461575e+01,\n",
              "        4.01516012e+01, -8.50558580e+01, -2.24237627e+01,  5.15267300e+00,\n",
              "        2.96785828e+01,  1.22066824e+02, -3.89212995e+01,  1.10731762e+02,\n",
              "       -7.42902564e+01, -1.40760610e+02,  4.95049412e+00,  1.98287426e+02,\n",
              "       -2.54763869e+01,  7.92059468e+01, -1.76532819e+02, -1.82143624e+02,\n",
              "       -5.25041942e+01,  8.71348795e+01,  8.20417603e+01,  1.15303276e+02,\n",
              "        1.42751477e+00, -1.32051448e+02,  1.33386390e+02, -1.19801778e+02,\n",
              "        1.69377075e+02,  8.14664386e+01,  6.74012712e+01, -1.53906738e+02,\n",
              "        2.42387157e+02,  1.80219743e+01, -1.38400595e+02, -5.99283856e+01,\n",
              "       -8.68321580e+01, -1.21588846e+02,  5.45727052e+01, -2.06302366e+02,\n",
              "        5.49461542e+01, -9.75292031e+01, -7.15669621e+01, -1.48685235e+02,\n",
              "        5.95338463e+01,  9.99293311e+00,  2.44799883e+01,  2.64885369e+01,\n",
              "        3.86575818e+00, -1.02307915e+02,  1.18916237e+02,  1.13075567e+02,\n",
              "        4.54119977e+01,  4.94315416e+01,  3.30857566e+01,  3.21490871e+01,\n",
              "       -9.99758945e+01,  5.35327574e+01, -1.15811744e+01, -2.40024163e+01,\n",
              "       -4.87299571e+01, -4.23473202e+01, -3.76889297e+01,  7.69354134e+01,\n",
              "        1.18827538e+02, -6.71210051e+01,  2.23744252e+01, -6.36790068e+01,\n",
              "       -5.61113956e+01, -2.40336681e+01, -1.08772918e+02, -4.70288407e+01,\n",
              "       -1.39749480e+02,  1.74049379e+01,  4.98823739e+01, -1.85255318e+02,\n",
              "       -5.93458347e+01,  4.02983124e+01,  1.85349797e+02,  8.03228272e+01,\n",
              "       -5.86839472e+01,  1.19211722e+02,  3.27057345e+01, -7.92792534e+01,\n",
              "       -8.46330370e+01,  5.69503642e+01, -8.60245745e+01, -6.83191576e+01,\n",
              "       -6.42522893e+01,  6.78727298e+01, -1.12054371e+02,  4.30173301e+01,\n",
              "       -2.34248297e+02, -1.07404100e+02,  5.71310520e+01, -2.87973240e+01,\n",
              "       -8.48442560e+01,  1.52333450e+02,  6.24724171e+01,  2.31460653e+02,\n",
              "        1.75450898e+01,  1.71805412e+02, -4.94487896e+01,  6.23880945e+01,\n",
              "        1.06936130e+02, -9.49654509e+01, -1.38167654e+02,  1.15769630e+02,\n",
              "        8.78293000e+01,  7.76289631e+01, -8.11027180e+00, -1.20816284e+01,\n",
              "        1.23643309e+01,  6.06932237e+00, -9.21596263e+01,  1.66401385e+01,\n",
              "       -1.18476398e+00, -9.52252894e+01,  4.03275572e+00,  3.44788535e+01,\n",
              "       -3.58944684e+01,  3.92982600e+01, -1.48531190e+02,  7.47157198e+01,\n",
              "       -5.74709505e+01, -4.01518632e+01, -1.48778472e+01, -7.98907865e+01,\n",
              "        4.93146753e+01, -8.46159117e+01,  5.19747212e+01,  1.74153211e+01,\n",
              "       -3.53326013e+01, -3.57875124e+01,  2.41551032e+01, -1.26864618e+01,\n",
              "        8.02929115e+01, -2.33393451e+02,  5.33510128e+00,  1.12174697e+02,\n",
              "       -2.75668808e+02, -1.80639489e+02,  3.63515672e+01,  6.73915407e+01,\n",
              "        5.08109990e+01, -6.80386538e+01, -7.36243594e+01,  6.08637003e+01,\n",
              "       -7.10804663e+00, -2.03208951e+02,  1.91344442e+02, -2.82193052e+01,\n",
              "       -3.89604214e+00,  5.68493200e+01,  4.02373363e+01, -6.33692914e+01,\n",
              "        1.13930362e+02, -3.15373060e+01, -1.20977225e+02,  8.63321121e+00,\n",
              "       -1.16947339e+02, -1.32489374e+02,  2.77982122e+01,  1.82855085e+02,\n",
              "        1.37367176e+02, -7.91156696e+01,  5.83341372e+01,  1.50374695e+02,\n",
              "       -6.92875296e+01, -3.11214232e+01, -6.36537336e+01,  1.60306509e+02,\n",
              "       -9.88207123e+01,  1.39372748e+02,  8.03425931e+01,  3.68498338e+01,\n",
              "        1.15699907e+01,  8.77332337e+00, -2.70604025e+01, -7.29666910e+01,\n",
              "       -1.17703537e+02,  9.23202483e+00, -8.77958666e+01, -7.33591089e+01,\n",
              "       -7.84139530e+01,  2.28343502e+02, -4.16415903e+01,  3.48350293e+01,\n",
              "        4.18940109e+01, -9.38798273e+01,  2.22613349e+01,  2.31044778e+01,\n",
              "       -1.11333357e+02,  3.21433136e+00,  4.29020382e+01, -2.62343298e+01,\n",
              "       -1.58841396e+01, -6.35523444e+01, -1.84130740e+02,  1.01379048e+02,\n",
              "        8.96019820e+01, -5.38949464e+01, -7.56699731e+01, -6.86990779e+00,\n",
              "       -7.00492099e-01,  6.89928574e+01,  1.67003105e+02,  5.77704707e+01,\n",
              "        4.43491164e+01,  3.78230903e+01, -3.19754068e+01,  7.36837473e+01,\n",
              "        9.71431826e+01,  9.24959929e+00,  1.10634452e+02, -2.53466196e+02,\n",
              "       -4.70568148e+01, -8.23207740e+01,  8.88501993e+01,  1.50427634e+02,\n",
              "        6.68273753e+01, -5.48229944e+01, -3.06922275e+01, -5.27538190e+01,\n",
              "       -8.80062749e+01,  1.13740123e+02, -1.01010661e+02,  5.83601860e+01,\n",
              "       -8.69705073e+01, -6.69895319e+01, -1.20639220e+02,  1.18445566e+02,\n",
              "       -1.72019737e+02, -8.23309093e+01,  1.42596202e+02,  9.99511445e+01,\n",
              "       -9.66728905e+01,  1.11250966e+02, -3.82679418e+01, -6.84661742e+01,\n",
              "       -6.18125522e+01,  3.54293892e+01, -3.88985037e+01, -3.64005942e+01,\n",
              "       -2.50992932e+02, -1.19164828e+02, -1.03561740e+02,  8.50619639e+01,\n",
              "       -1.56649251e+02,  1.47193343e+01, -1.34124360e+02, -3.97803932e+01,\n",
              "        2.22786382e+01, -2.74903665e+02,  2.64887327e+02, -1.07464889e+02,\n",
              "        5.75074421e+01,  1.01107395e+02, -8.46445212e+01, -1.36672146e+02,\n",
              "        1.15891448e+01,  8.42731624e+01,  4.49828459e+00, -1.21291024e+02,\n",
              "       -1.30068601e+02, -1.78686333e+02,  1.07690857e+02,  6.34538777e+01,\n",
              "       -5.96992782e+01,  1.39669721e+01, -5.52242959e+00, -6.00165517e+01,\n",
              "        6.81636872e+01, -1.70253229e+02,  9.57672556e+01,  1.38520155e+02,\n",
              "        2.16431460e+02, -2.06159631e+01,  2.36491014e+01, -1.04206985e+02,\n",
              "        1.23152718e+02, -4.44990791e+01, -2.45658317e+01,  1.23358388e+01,\n",
              "       -7.17495386e+01, -1.22870975e+02, -2.11004977e+02,  8.96351887e+01,\n",
              "       -2.24478031e+01, -7.09048389e+01, -1.11763717e+02,  1.78699743e+02,\n",
              "       -1.43452391e+02,  9.82144171e+01, -5.71489359e+01, -1.09394184e+02,\n",
              "       -1.14715678e+02,  1.50807376e+02, -5.40737520e+01, -2.58985981e+00,\n",
              "        1.11577007e+02, -1.16493824e+01, -1.10418423e+02,  1.08961100e+02])"
            ]
          },
          "metadata": {
            "tags": []
          },
          "execution_count": 3
        }
      ]
    },
    {
      "cell_type": "code",
      "metadata": {
        "id": "tQkpQMghc0qr"
      },
      "source": [
        "import numpy as np\n",
        "\n",
        "def loss_function(X, y, theta):\n",
        "  return (1/2*(len(y))) * np.sum(np.square(X.dot(theta) - y))"
      ],
      "execution_count": 4,
      "outputs": []
    },
    {
      "cell_type": "code",
      "metadata": {
        "id": "FMPP5M24qjCT"
      },
      "source": [
        "def batch_gradient_descent(X, y, theta):\n",
        "  losses = np.zeros(1000)\n",
        "\n",
        "  for iteration in range(1000):\n",
        "    gradient = X.T.dot(X.dot(theta) - y)/len(y)\n",
        "    theta = theta - 0.01 * gradient\n",
        "    loss = loss_function(X, y, theta)\n",
        "    losses[iteration] = loss\n",
        "  return theta, losses"
      ],
      "execution_count": 5,
      "outputs": []
    },
    {
      "cell_type": "code",
      "metadata": {
        "id": "KsoL911UglM6"
      },
      "source": [
        "X = np.c_[np.ones(len(X)), X]\n",
        "theta = np.zeros(X.shape[1])\n",
        "theta, losses = batch_gradient_descent(X, y, theta)"
      ],
      "execution_count": 6,
      "outputs": []
    },
    {
      "cell_type": "code",
      "metadata": {
        "colab": {
          "base_uri": "https://localhost:8080/",
          "height": 602
        },
        "id": "g-B8PUABhIPx",
        "outputId": "225fc2b8-780e-455a-d465-63c02050ce8a"
      },
      "source": [
        "import matplotlib.pyplot as plt\n",
        "\n",
        "plt.figure(figsize=(15, 10))\n",
        "plt.scatter(range(1000), losses)\n",
        "plt.show()"
      ],
      "execution_count": 7,
      "outputs": [
        {
          "output_type": "display_data",
          "data": {
            "image/png": "[encoded data removed]",
            "text/plain": [
              "<Figure size 1080x720 with 1 Axes>"
            ]
          },
          "metadata": {
            "tags": [],
            "needs_background": "light"
          }
        }
      ]
    }
  ]
}